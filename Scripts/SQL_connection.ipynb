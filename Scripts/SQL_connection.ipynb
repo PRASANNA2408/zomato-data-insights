{
 "cells": [
  {
   "cell_type": "code",
   "execution_count": 1,
   "id": "de1afdf2",
   "metadata": {},
   "outputs": [],
   "source": [
    "import mysql.connector as db\n",
    "import pandas as pd"
   ]
  },
  {
   "cell_type": "markdown",
   "id": "9c147d94",
   "metadata": {},
   "source": [
    "**customer table creation**\n"
   ]
  },
  {
   "cell_type": "code",
   "execution_count": 2,
   "id": "9d72d5d7",
   "metadata": {},
   "outputs": [],
   "source": [
    "connection = db.connect(\n",
    "        user = 'root',\n",
    "        password = '123456789',\n",
    "        host = '127.0.0.1',\n",
    "        database = 'food_delivery')\n",
    "\n",
    "cursor = connection.cursor()\n",
    "\n",
    "query = \"\"\"\n",
    "        CREATE TABLE IF NOT EXISTS Customers (\n",
    "        customer_id VARCHAR(36) PRIMARY KEY,\n",
    "        name VARCHAR(255) NOT NULL,\n",
    "        email VARCHAR(255) UNIQUE NOT NULL,\n",
    "        phone_number VARCHAR(255) NOT NULL,\n",
    "        location VARCHAR(255),\n",
    "        signup_date DATE NOT NULL,\n",
    "        is_premium BOOLEAN DEFAULT FALSE,\n",
    "        preferred_cuisine VARCHAR(50),\n",
    "        total_orders INT DEFAULT 0,\n",
    "        average_rating FLOAT DEFAULT 0.0);\n",
    "        \"\"\"\n",
    "connection.commit()\n",
    "cursor.execute(query)\n",
    "connection.close()"
   ]
  },
  {
   "cell_type": "markdown",
   "id": "96d1e29f",
   "metadata": {},
   "source": [
    "**# Restaurant table creation**"
   ]
  },
  {
   "cell_type": "code",
   "execution_count": 3,
   "id": "78e64a86",
   "metadata": {},
   "outputs": [],
   "source": [
    "connection = db.connect(\n",
    "        user = 'root',\n",
    "        password = '123456789',\n",
    "        host = '127.0.0.1',\n",
    "        database = 'food_delivery')\n",
    "\n",
    "cursor = connection.cursor()\n",
    "\n",
    "query = \"\"\"\n",
    "        CREATE TABLE IF NOT EXISTS Restaurants (\n",
    "        restaurant_id VARCHAR(36) PRIMARY KEY,\n",
    "        name VARCHAR(255) NOT NULL,\n",
    "        cuisine_type VARCHAR(50),\n",
    "        location VARCHAR(255),\n",
    "        owner_name VARCHAR(255),\n",
    "        average_delivery_time INT DEFAULT 30,\n",
    "        contact_number VARCHAR(255) NOT NULL,\n",
    "        rating FLOAT DEFAULT 0.0,\n",
    "        total_orders INT DEFAULT 0,\n",
    "        is_active BOOLEAN DEFAULT TRUE);\n",
    "        \"\"\"\n",
    "connection.commit()\n",
    "cursor.execute(query)\n",
    "connection.close()"
   ]
  },
  {
   "cell_type": "markdown",
   "id": "c518613c",
   "metadata": {},
   "source": [
    "**** Order Table Creation****"
   ]
  },
  {
   "cell_type": "code",
   "execution_count": 4,
   "id": "0c59cebe",
   "metadata": {},
   "outputs": [],
   "source": [
    "connection = db.connect(\n",
    "        user = 'root',\n",
    "        password = '123456789',\n",
    "        host = '127.0.0.1',\n",
    "        database = 'food_delivery')\n",
    "\n",
    "cursor = connection.cursor()\n",
    "\n",
    "query = \"\"\"\n",
    "        CREATE TABLE IF NOT EXISTS Orders (\n",
    "        order_id VARCHAR(36) PRIMARY KEY,\n",
    "        customer_id VARCHAR(36) NOT NULL,\n",
    "        restaurant_id VARCHAR(36) NOT NULL,\n",
    "        order_date DATETIME NOT NULL,\n",
    "        delivery_time DATETIME,\n",
    "        status VARCHAR(50) DEFAULT 'Pending',\n",
    "        total_amount FLOAT NOT NULL,\n",
    "        payment_mode VARCHAR(50),\n",
    "        discount_applied FLOAT DEFAULT 0.0,\n",
    "        feedback_rating FLOAT DEFAULT NULL,\n",
    "        FOREIGN KEY (customer_id) REFERENCES Customers(customer_id),\n",
    "        FOREIGN KEY (restaurant_id) REFERENCES Restaurants(restaurant_id));\n",
    "        \"\"\"\n",
    "connection.commit()\n",
    "cursor.execute(query)\n",
    "connection.close()\n"
   ]
  },
  {
   "cell_type": "markdown",
   "id": "acd0dd91",
   "metadata": {},
   "source": [
    "#** Deliveries Table Creation**"
   ]
  },
  {
   "cell_type": "code",
   "execution_count": 5,
   "id": "c885b9bc",
   "metadata": {},
   "outputs": [],
   "source": [
    "connection = db.connect(\n",
    "        user = 'root',\n",
    "        password = '123456789',\n",
    "        host = '127.0.0.1',\n",
    "        database = 'food_delivery')\n",
    "\n",
    "cursor = connection.cursor()\n",
    "\n",
    "query = \"\"\" \n",
    "        CREATE TABLE IF NOT EXISTS Deliveries (\n",
    "        delivery_id VARCHAR(36) PRIMARY KEY,\n",
    "        order_id VARCHAR(36) NOT NULL,\n",
    "        delivery_status VARCHAR(50) DEFAULT 'On the way',\n",
    "        distance FLOAT NOT NULL,\n",
    "        delivery_time INT,\n",
    "        estimated_time INT,\n",
    "        delivery_fee FLOAT NOT NULL,\n",
    "        vehicle_type VARCHAR(50),\n",
    "        FOREIGN KEY (order_id) REFERENCES Orders(order_id));\n",
    "        \"\"\"\n",
    "connection.commit()\n",
    "cursor.execute(query)\n",
    "connection.close()"
   ]
  },
  {
   "cell_type": "markdown",
   "id": "ecf7387c",
   "metadata": {},
   "source": [
    " **Inserting .csv files to Customers Table**"
   ]
  },
  {
   "cell_type": "code",
   "execution_count": 7,
   "id": "ed3835d8",
   "metadata": {},
   "outputs": [],
   "source": [
    "connection = db.connect(\n",
    "        user = 'root',\n",
    "        password = '123456789',\n",
    "        host = '127.0.0.1',\n",
    "        database = 'food_delivery')\n",
    "\n",
    "cursor = connection.cursor()\n",
    "\n",
    "customers = pd.read_csv('Customers.csv')\n",
    "insert_query = \"\"\"\n",
    "               INSERT INTO Customers (customer_id, name, email, phone_number, location, signup_date, is_premium, preferred_cuisine, total_orders, average_rating) \n",
    "               VALUES (%s, %s, %s, %s, %s, %s, %s, %s, %s, %s)\n",
    "               \"\"\"\n",
    "for index, row in customers.iterrows():\n",
    "    cursor.execute(insert_query, (row['customer_id'], row['name'], row['email'], row['phone_number'], row['location'],\n",
    "                                  row['signup_date'], row['is_premium'], row['preferred_cuisine'], row['total_orders'], row['average_rating']))\n",
    "\n",
    "connection.commit()\n",
    "cursor.close()\n",
    "connection.close()"
   ]
  },
  {
   "cell_type": "markdown",
   "id": "12f93dd5",
   "metadata": {},
   "source": [
    " **Inserting .csv files to Restaurants Table**"
   ]
  },
  {
   "cell_type": "code",
   "execution_count": 8,
   "id": "58a96894",
   "metadata": {},
   "outputs": [],
   "source": [
    "connection = db.connect(\n",
    "        user = 'root',\n",
    "        password = '123456789',\n",
    "        host = '127.0.0.1',\n",
    "        database = 'food_delivery')\n",
    "\n",
    "cursor = connection.cursor()\n",
    "\n",
    "restaurants = pd.read_csv('Restaurants.csv')\n",
    "insert_query = \"\"\"\n",
    "               INSERT INTO Restaurants (restaurant_id, name, cuisine_type, location, owner_name, average_delivery_time, contact_number, rating, total_orders, is_active) \n",
    "               VALUES (%s, %s, %s, %s, %s, %s, %s, %s, %s, %s)\n",
    "               \"\"\"\n",
    "for index, row in restaurants.iterrows():\n",
    "    cursor.execute(insert_query, (row['restaurant_id'], row['name'], row['cuisine_type'], row['location'], row['owner_name'],\n",
    "                                  row['average_delivery_time'], row['contact_number'], row['rating'], row['total_orders'], row['is_active']))\n",
    "\n",
    "connection.commit()\n",
    "cursor.close()\n",
    "connection.close()"
   ]
  },
  {
   "cell_type": "markdown",
   "id": "f6fd3a4f",
   "metadata": {},
   "source": [
    "**Inserting .csv files to Orders Table**"
   ]
  },
  {
   "cell_type": "code",
   "execution_count": 9,
   "id": "7ec23e43",
   "metadata": {},
   "outputs": [],
   "source": [
    "connection = db.connect(\n",
    "        user = 'root',\n",
    "        password = '123456789',\n",
    "        host = '127.0.0.1',\n",
    "        database = 'food_delivery')\n",
    "\n",
    "cursor = connection.cursor()\n",
    "\n",
    "orders = pd.read_csv('Orders.csv')\n",
    "insert_query = \"\"\"\n",
    "               INSERT INTO Orders (order_id, customer_id, restaurant_id, order_date, delivery_time, status, total_amount, payment_mode, discount_applied, feedback_rating)\n",
    "               VALUES (%s, %s, %s, %s, %s, %s, %s, %s, %s, %s)\n",
    "               \"\"\"\n",
    "for index, row in orders.iterrows():\n",
    "    cursor.execute(insert_query, (row['order_id'], row['customer_id'], row['restaurant_id'], row['order_date'], row['delivery_time'], \n",
    "                                  row['status'], row['total_amount'], row['payment_mode'], row['discount_applied'], row['feedback_rating']))\n",
    "\n",
    "connection.commit()\n",
    "cursor.close()\n",
    "connection.close()"
   ]
  },
  {
   "cell_type": "markdown",
   "id": "8de05f26",
   "metadata": {},
   "source": [
    "**Inserting .csv files to Deliveries Table**"
   ]
  },
  {
   "cell_type": "code",
   "execution_count": 10,
   "id": "73668272",
   "metadata": {},
   "outputs": [],
   "source": [
    "connection = db.connect(\n",
    "        user = 'root',\n",
    "        password = '123456789',\n",
    "        host = '127.0.0.1',\n",
    "        database = 'food_delivery')\n",
    "\n",
    "cursor = connection.cursor()\n",
    "\n",
    "deliveries = pd.read_csv('Deliveries.csv')\n",
    "insert_query = \"\"\"\n",
    "               INSERT INTO Deliveries (delivery_id, order_id, delivery_status, distance, delivery_time, estimated_time, delivery_fee, vehicle_type) \n",
    "               VALUES (%s, %s, %s, %s, %s, %s, %s, %s)\n",
    "               \"\"\"\n",
    "for index, row in deliveries.iterrows():\n",
    "    cursor.execute(insert_query, (row['delivery_id'], row['order_id'], row['delivery_status'], row['distance'], row['delivery_time'], \n",
    "                                  row['estimated_time'], row['delivery_fee'], row['vehicle_type']))\n",
    "\n",
    "connection.commit()\n",
    "cursor.close()\n",
    "connection.close()"
   ]
  }
 ],
 "metadata": {
  "kernelspec": {
   "display_name": "venv",
   "language": "python",
   "name": "python3"
  },
  "language_info": {
   "codemirror_mode": {
    "name": "ipython",
    "version": 3
   },
   "file_extension": ".py",
   "mimetype": "text/x-python",
   "name": "python",
   "nbconvert_exporter": "python",
   "pygments_lexer": "ipython3",
   "version": "3.12.8"
  }
 },
 "nbformat": 4,
 "nbformat_minor": 5
}
